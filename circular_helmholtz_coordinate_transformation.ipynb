{
 "cells": [
  {
   "cell_type": "markdown",
   "id": "8aab379b",
   "metadata": {},
   "source": [
    "<p>\n",
    "    We begin by importing the necessary python libraries to approach the problem:\n",
    "</p>"
   ]
  },
  {
   "cell_type": "code",
   "execution_count": 3,
   "id": "5e0b0717",
   "metadata": {},
   "outputs": [],
   "source": [
    "import math\n",
    "import matplotlib.pyplot as plt\n",
    "import numpy as np\n",
    "from scipy.sparse.linalg import eigsh"
   ]
  },
  {
   "cell_type": "markdown",
   "id": "8e058cd2",
   "metadata": {},
   "source": [
    "<h1>2D Circle (Coordinate Transform Method) - Eigenvalue Problem in Polar Co-ordinates</h1>\n",
    "<p>After eliminating the Time Dependence from the 2D Wave Equation using separation of variables, we arrive at the Helmholtz Equation.\n",
    "<br><br>\n",
    "We wish to solve this as an eigenvalue problem of the following form for the set of eigenmodes on a polar (r,$\\theta$) plane:</p>\n",
    "<p>$$\\nabla^2z(r,\\theta) = -s^2z(r,\\theta)$$</p>\n",
    "\n",
    "<p>Let us first note the the form of the Laplacian in polar coordinates: </p><br>\n",
    "$$\\nabla^2 = \\frac{\\partial^2}{\\partial r^2} + \\frac{1}{r}\\frac{\\partial}{\\partial r} + \\frac{1}{r^2}\\frac{\\partial}{\\partial \\theta^2}$$\n",
    "\n",
    "<p>\n",
    "The presence of $$\\frac{1}{r},\\frac{1}{r^2}$$<br>\n",
    "is somewhat problematic as we will have terms approaching infinity in the centre where the radial distance is very small.\n",
    "</p>\n",
    "<p>\n",
    "To avoid this, we employ a change of variable to the system - changing from 'r' to a new parameter 'u' where:\n",
    "</p><br>\n",
    "$$u = \\frac{1}{r}$$\n",
    "<p>\n",
    "This yields a new form of our operator in terms of u instead of r:\n",
    "</p><br>\n",
    "$$\\nabla^2 = u^4\\frac{\\partial^2}{\\partial u^2} + u^3\\frac{\\partial}{\\partial u} + u^2\\frac{\\partial}{\\partial \\theta^2}$$<br>\n",
    "<p>\n",
    "The CDA (Central Difference Approximation) was then used to discretise the derivative terms in the Laplacian.\n",
    "<br><br>\n",
    "$$\\frac{\\partial^2 z(u_i,\\theta_j)}{\\partial u^2} = \\frac{z(u_{i+1},\\theta_j)-2z(u_i,\\theta_j)+z(u_{i-1},\\theta_j)}{(\\Delta{u})^2}$$\n",
    "    <br>\n",
    "$$\\frac{\\partial^2 z(u_i,\\theta_j)}{\\partial \\theta^2} = \\frac{z(u_{i},\\theta_{j+1})-2z(u_i,\\theta_j)+z(u_{i},\\theta_{j-1})}{(\\Delta{\\theta})^2}$$\n",
    "    <br>\n",
    "$$\\frac{\\partial z(u_i,\\theta_j)}{\\partial u} = \\frac{z(u_{i+1},\\theta_{j})-z(u_{i-1},\\theta_{j})}{2\\Delta{u}}$$\n",
    "<br><br>\n",
    "Neumann boundary conditions were imposed on the system.<br><br>\n",
    "It is to be noted that we chose the innermost point to be a value arbitrarily close to zero instead of zero (again to avoid infinites).    \n",
    "At the spatial boundaries ie. innermost point of circle and edge of the circle (r=Nr and r=0.001 or u=Nu and u=1/0.001 for all $\\theta$)...\n",
    "</p>\n",
    "<br><br>\n",
    "$$\\frac{\\partial z(u_i,\\theta_j)}{\\partial r} = 0$$\n",
    "<br>\n",
    "A backward difference scheme was applied to the outer boundary and a forward difference scheme was applied to the inner boundary:\n",
    "</p>\n",
    "<br>\n",
    "$$\\frac{z(u_{i},\\theta_{j})-z(u_{i-1},\\theta_{j})}{\\Delta{u}} = 0$$\n",
    "    \n",
    "$$\\frac{z(u_{i+1},\\theta_{j})-z(u_{i},\\theta_{j})}{\\Delta{u}} = 0$$\n",
    "<br>\n",
    "<p>\n",
    "\n",
    "A Tridiagonal Matrix was constructed from the boundary/interior approximations. \n",
    "\n",
    "</p>\n",
    "We obtain the following formulae to use in our triadiagonal matrix:\n",
    "    \n",
    "For the Interior points -\n",
    "</p>\n",
    "<p>\n",
    "$$z(u_i,\\theta_j): -2\\frac{u^4}{(\\Delta{u})^2} -2\\frac{u^2}{(\\Delta{\\theta})^2}$$\n",
    "<br>\n",
    "$$z(u_{i+1},\\theta_j): \\frac{u^4}{(\\Delta{u})^2} + \\frac{u^3}{2\\Delta u}$$\n",
    "<br>\n",
    "$$z(u_{i-1},\\theta_j): \\frac{u^4}{(\\Delta{u})^2} - \\frac{u^3}{2\\Delta u}$$\n",
    "<br>\n",
    "$$z(u_{i},\\theta_{j+1}): \\frac{u^2}{(\\Delta{\\theta})^2}$$\n",
    "<br>\n",
    "$$z(u_{i},\\theta_{j-1}): \\frac{u^2}{(\\Delta{\\theta})^2}$$\n",
    "</p>\n",
    "<br>\n",
    "<p>\n",
    "And for the boundary conditions -\n",
    "</p>\n",
    "<p>\n",
    "$$z(u_{i},\\theta_{j}) = z(u_{i-1},\\theta_{j})$$\n",
    "<br>\n",
    "$$z(u_{i},\\theta_{j}) = z(u_{i+1},\\theta_{j})$$\n",
    "</p>\n",
    "<br><br>\n",
    "<p>\n",
    "We solve the tridiagonal matrix for its eigenvectors/eigenvalues and display the first 6 modes graphically.\n",
    "</p>\n",
    "<br><br><br>"
   ]
  },
  {
   "cell_type": "code",
   "execution_count": 4,
   "id": "97c7ad7e",
   "metadata": {},
   "outputs": [
    {
     "name": "stdout",
     "output_type": "stream",
     "text": [
      "E-value: [-432.75355903 -432.43370135 -431.89028122 -431.13872082 -430.15169035\n",
      " -428.9658271 ]\n"
     ]
    }
   ],
   "source": [
    "# Code to solve 2D Polar Helmholtz Equation\n",
    "\n",
    "# Simple function for accessing eigenstates of system\n",
    "\n",
    "def reshape(eigenstate):\n",
    "    return np.reshape(z[:,eigenstate], (Nu,Ntheta))\n",
    "\n",
    "# Inputs\n",
    "Nr = 100 # r grid points\n",
    "Ntheta = 100 # Theta grid points\n",
    "N = Nr * Ntheta # 2500 grid points per row / column\n",
    "Lr = 150 # Domain size\n",
    "Ltheta = math.pi * 2 # Theta ranges from 0 to 2pi\n",
    "\n",
    "# Grid \n",
    "# Range from 0 to L with N grid points\n",
    "\n",
    "r = np.linspace(0.001,Lr,Nr) # Mesh\n",
    "theta = np.linspace(0,Ltheta, Ntheta)\n",
    "dr = r[1] - r[0] # Mesh Size\n",
    "dtheta = theta[1] - theta[0]\n",
    "\n",
    "u = 1/r\n",
    "du = 1/dr\n",
    "\n",
    "Lu = Lr\n",
    "Nu = Nr\n",
    "\n",
    "# Initialise matrices\n",
    "\n",
    "M = np.zeros((N,N)) # N rows, N columns\n",
    "M.astype(float)\n",
    "\n",
    "# Outer BC\n",
    "i=Nu\n",
    "for j in range(0,Ntheta):\n",
    "    n=i+(j-1)*Nu # nth row for this ij\n",
    "    M[n,n]=1 # Main diagonal\n",
    "    M[n,n-1]=1 # Off diagonal to the left\n",
    "    \n",
    "# Inner BC\n",
    "i=0\n",
    "for j in range(0,Ntheta):\n",
    "    n=i+(j-1)*Nu # nth row for this ij\n",
    "    M[n,n]=1 # Main diagonal\n",
    "    M[n,n+1]=1 # Off diagonal to the left\n",
    "\n",
    "# Interior points\n",
    "for i in range(1, Nu-1): # Loop over x direction skipping 1st and last grid points\n",
    "    for j in range(1, Ntheta-1): # Loop over y direction skipping 1st and last grid points\n",
    "        n=i+(j-1)*Nu # Convert ij grid point to nth grid point (n refers to the nth entry of the column vector in which the matrix acts upon)\n",
    "        M[n,n]= (((-2*u[i]**4)/((du)**2)) + ((-2*u[i]**2)/((dtheta)**2))) # Main diagonal\n",
    "        M[n,n-1]= (((u[i]**4)/((du)**2)) - ((u[i]**3)/(2*dtheta))) # Off diagonal to the left \n",
    "        M[n,n+1]= (((u[i]**4)/((du)**2)) + ((u[i]**3)/(2*dtheta))) # Off diagonal to the right\n",
    "        M[n,n-Nu]= ((u[i]**2)/((dtheta)**2)) # Far off diagonal to the left\n",
    "        M[n,n+Nu]= ((u[i]**2)/((dtheta)**2)) # Far off diagonal to the left\n",
    "\n",
    "alpha,z = eigsh(M)\n",
    "\n",
    "# z = np.real(z)\n",
    "alpha = np.real(alpha)\n",
    "\n",
    "z_0 = reshape(0)\n",
    "z_1 = reshape(1)\n",
    "z_2 = reshape(2)\n",
    "z_3 = reshape(3)\n",
    "z_4 = reshape(4)\n",
    "z_5 = reshape(5)\n",
    "\n",
    "print('E-value:', alpha)"
   ]
  },
  {
   "cell_type": "code",
   "execution_count": 5,
   "id": "93aa6282",
   "metadata": {},
   "outputs": [],
   "source": [
    "# Cast r and theta values to cartesians for plotting\n",
    "\n",
    "U, Theta = np.meshgrid(u, theta)\n",
    "x, y = (U)*np.cos(Theta), (U)*np.sin(Theta)"
   ]
  },
  {
   "cell_type": "code",
   "execution_count": 6,
   "id": "f423452c",
   "metadata": {},
   "outputs": [
    {
     "data": {
      "text/plain": [
       "Text(0.5, 0.92, 'Circular Polar 2-D Helmholtz')"
      ]
     },
     "execution_count": 6,
     "metadata": {},
     "output_type": "execute_result"
    },
    {
     "data": {
      "image/png": "[encoded data removed]",
      "text/plain": [
       "<Figure size 432x288 with 1 Axes>"
      ]
     },
     "metadata": {
      "needs_background": "light"
     },
     "output_type": "display_data"
    }
   ],
   "source": [
    "# Plot result\n",
    "\n",
    "fig, ax = plt.subplots(subplot_kw={\"projection\": \"3d\"})\n",
    "ax.plot_surface(x, y, z_0, cmap='summer', linewidth=0, antialiased=False)\n",
    "# ax.plot_surface(x, y, z_1, cmap='summer', linewidth=0, antialiased=False)\n",
    "# ax.plot_surface(x, y, z_2, cmap='summer', linewidth=0, antialiased=False)\n",
    "# ax.plot_surface(x, y, z_3, cmap='summer', linewidth=0, antialiased=False)\n",
    "# ax.plot_surface(x, y, z_4, cmap='summer', linewidth=0, antialiased=False)\n",
    "# ax.plot_surface(x, y, z_5, cmap='summer', linewidth=0, antialiased=False)\n",
    "ax.set_xlabel('x')\n",
    "ax.set_ylabel('y')\n",
    "ax.set_zlabel('z')\n",
    "# ax.set_zlim3d((-0.075, 0.075))\n",
    "ax.set_zlim3d((-0.07, 0.07))\n",
    "ax.view_init(18, 42)\n",
    "ax.set_title('Circular Polar 2-D Helmholtz')"
   ]
  }
 ],
 "metadata": {
  "kernelspec": {
   "display_name": "Python 3 (ipykernel)",
   "language": "python",
   "name": "python3"
  },
  "language_info": {
   "codemirror_mode": {
    "name": "ipython",
    "version": 3
   },
   "file_extension": ".py",
   "mimetype": "text/x-python",
   "name": "python",
   "nbconvert_exporter": "python",
   "pygments_lexer": "ipython3",
   "version": "3.9.6"
  },
  "latex_envs": {
   "LaTeX_envs_menu_present": true,
   "autoclose": false,
   "autocomplete": true,
   "bibliofile": "biblio.bib",
   "cite_by": "apalike",
   "current_citInitial": 1,
   "eqLabelWithNumbers": true,
   "eqNumInitial": 1,
   "hotkeys": {
    "equation": "Ctrl-E",
    "itemize": "Ctrl-I"
   },
   "labels_anchors": false,
   "latex_user_defs": false,
   "report_style_numbering": false,
   "user_envs_cfg": false
  }
 },
 "nbformat": 4,
 "nbformat_minor": 5
}
